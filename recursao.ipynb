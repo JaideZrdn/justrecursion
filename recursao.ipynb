{
 "cells": [
  {
   "cell_type": "markdown",
   "metadata": {},
   "source": [
    "# Recursão\n",
    "## Início do estudo\n",
    "Iniciando o estudo de paradigmas recursivos, temos o modelo padrão de uma função recursiva. \n",
    "Ele consiste basicamente em:\n",
    "* Uma Base\n",
    "* Uma definição independente\n",
    "* Combinação dos resultados\n",
    "* A definição recursiva\n",
    "\n",
    "Ela pode ser utilizada nos mais diversos contextos, como por exemplo, uma função que resolve a **TORRE DE HANOI**\n",
    "\n"
   ]
  },
  {
   "cell_type": "code",
   "execution_count": 2,
   "metadata": {},
   "outputs": [
    {
     "name": "stdout",
     "output_type": "stream",
     "text": [
      "Mova disco 1 de Torre A para Torre B\n",
      "Mova disco 2 de Torre A para Torre C\n",
      "Mova disco 1 de Torre B para Torre C\n"
     ]
    }
   ],
   "source": [
    "def hanoi(npecas, início, fim, auxiliar):\n",
    "    \"\"\"\n",
    "    Essa função basicamente retornará linha por linha\n",
    "    como resolver uma torre de hanoi de n peças, nela\n",
    "    os argumentos são: quantidade de peças; torre de \n",
    "    início das peças; torre final e torre auxiliar.\n",
    "    \"\"\"\n",
    "    if npecas==1:\n",
    "        return [\"Mova disco \" + str(1) + \" de \" + início + \" para \" + fim]\n",
    "    #base da recursão\n",
    "    passos=hanoi(npecas - 1, início, auxiliar, fim)\n",
    "    #reaplicação da função\n",
    "    passos.append(\"Mova disco \" + str(npecas) + \" de \" + início + \" para \" + fim)\n",
    "    passos.extend(hanoi(npecas-1, auxiliar, fim, início))\n",
    "    #reaplicação da função\n",
    "    return passos\n",
    "\n",
    "n = int(input())\n",
    "passoss = hanoi(n, \"Torre A\", \"Torre C\", \"Torre B\")\n",
    "\n",
    "for passo in passoss:\n",
    "    print(passo)"
   ]
  },
  {
   "cell_type": "markdown",
   "metadata": {},
   "source": [
    "Podemos também fazer uma série de outras funções ateriormente possíveis sem recursão, porém, de uma maneira mais prática, não necessariamente mais eficiente."
   ]
  },
  {
   "cell_type": "code",
   "execution_count": null,
   "metadata": {},
   "outputs": [],
   "source": [
    "def maximo(xs):\n",
    "    \"\"\"\n",
    "    função que retornará o valor máximo de uma lista\n",
    "    \"\"\"\n",
    "    if len(xs)==0: return xs[0] #base\n",
    "    else: return maior(xs[0], maximo(xs[1:])) #aplicação da recursão\n",
    "    def maior(x,y):\n",
    "        if x>y: return x\n",
    "        else: return y\n",
    "\n",
    "def menores(k,xs):\n",
    "    \"\"\"\n",
    "    função que retorna todos os valores menores que k de xs\n",
    "    \"\"\"\n",
    "    if len[xs]==0: return xs #base\n",
    "    elif xs[0]<k: return [xs[0]]+ menores[k,xs[1:]]#aplicação 1 da recursão\n",
    "    else: return menores[k,xs[1:]]#aplicação 2 da recursão\n",
    "\n"
   ]
  },
  {
   "cell_type": "markdown",
   "metadata": {},
   "source": [
    "### Ordenação\n",
    "Agora, iremos tratar de ordenação de listas em sistemas não decrescentes, para isso definimos algumsa funções auxilares e a função de inserir um elemento em uma lista já ordenada."
   ]
  },
  {
   "cell_type": "code",
   "execution_count": null,
   "metadata": {},
   "outputs": [],
   "source": [
    "def take(n, xs):\n",
    "    \"\"\"\n",
    "    função que retorna os primeiros n elementos da lista xs\n",
    "    \"\"\"\n",
    "    return xs[0:n]\n",
    "\n",
    "def drop(n, xs):\n",
    "    \"\"\"\n",
    "    função que retorna uma lista sem os n primeiros elementos\n",
    "    \"\"\"\n",
    "    return xs[n:]\n",
    "\n",
    "def insord(k,xs):\n",
    "    \n",
    "    \"\"\"\n",
    "    Adiciona k à lista já ordenada xs por pesquisa binária\n",
    "    \"\"\"\n",
    "    if len(xs)==1:\n",
    "        if k<xs[0]: return [k]+xs\n",
    "        else: return xs + [k]\n",
    "    parametro=len(xs)//2\n",
    "    menores = take(parametro,xs)\n",
    "    maiores= drop(parametro,xs)\n",
    "    pivot= maiores[0]\n",
    "    if k==pivot:return menores + [k] + maiores\n",
    "    elif k<pivot: return insord(k,menores) + maiores\n",
    "    else: return menores + insord(k,maiores)\n",
    "    \n",
    "\n"
   ]
  }
 ],
 "metadata": {
  "kernelspec": {
   "display_name": "Python 3",
   "language": "python",
   "name": "python3"
  },
  "language_info": {
   "codemirror_mode": {
    "name": "ipython",
    "version": 3
   },
   "file_extension": ".py",
   "mimetype": "text/x-python",
   "name": "python",
   "nbconvert_exporter": "python",
   "pygments_lexer": "ipython3",
   "version": "3.11.4"
  }
 },
 "nbformat": 4,
 "nbformat_minor": 2
}
